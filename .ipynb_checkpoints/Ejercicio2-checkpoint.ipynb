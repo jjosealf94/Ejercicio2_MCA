{
 "cells": [
  {
   "cell_type": "code",
   "execution_count": 1,
   "metadata": {
    "collapsed": false
   },
   "outputs": [
    {
     "name": "stdout",
     "output_type": "stream",
     "text": [
      "Populating the interactive namespace from numpy and matplotlib\n"
     ]
    }
   ],
   "source": [
    "%pylab inline"
   ]
  },
  {
   "cell_type": "code",
   "execution_count": 2,
   "metadata": {
    "collapsed": true
   },
   "outputs": [],
   "source": [
    "xobs=np.array([2,-2,5,8,5,1])\n",
    "yobs=np.array([20,-1,12,10,-16,40])\n",
    "zobs=np.array([0,0,0,0,0,0])\n",
    "tobs=np.array([3.23,3.82,2.27,3.04,5.65,6.57])"
   ]
  },
  {
   "cell_type": "code",
   "execution_count": 14,
   "metadata": {
    "collapsed": true
   },
   "outputs": [],
   "source": [
    "def loglikelihood(x0,y0,z0):\n",
    "    s0=(tobs[0]-(sqrt((zobs[0]-z0)**2+(yobs[0]-y0)**2+(xobs[0]-x0)**2))/5)**2\n",
    "    s1=(tobs[1]-(sqrt((zobs[1]-z0)**2+(yobs[1]-y0)**2+(xobs[1]-x0)**2))/5)**2\n",
    "    s2=(tobs[2]-(sqrt((zobs[2]-z0)**2+(yobs[2]-y0)**2+(xobs[2]-x0)**2))/5)**2\n",
    "    s3=(tobs[3]-(sqrt((zobs[3]-z0)**2+(yobs[3]-y0)**2+(xobs[3]-x0)**2))/5)**2\n",
    "    s4=(tobs[4]-(sqrt((zobs[4]-z0)**2+(yobs[4]-y0)**2+(xobs[4]-x0)**2))/5)**2\n",
    "    s5=(tobs[5]-(sqrt((zobs[5]-z0)**2+(yobs[5]-y0)**2+(xobs[5]-x0)**2))/5)**2\n",
    "    return s0+s1+s2+s3+s4+s5\n",
    "\n",
    "def gradient_loglikelihood(x0,y0,z0):\n",
    "    \n",
    "    Gpx0= -(2/5)*(tobs[0]-(sqrt((zobs[0]-z0)**2+(yobs[0]-y0)**2+(xobs[0]-x0)**2))/5)*((xobs[0]-x0)/sqrt((zobs[0]-z0)**2+(yobs[0]-y0)**2+(xobs[0]-x0)**2))\n",
    "    Gpx1= -(2/5)*(tobs[1]-(sqrt((zobs[1]-z0)**2+(yobs[1]-y0)**2+(xobs[1]-x0)**2))/5)*((xobs[1]-x0)/sqrt((zobs[1]-z0)**2+(yobs[1]-y0)**2+(xobs[1]-x0)**2))\n",
    "    Gpx2= -(2/5)*(tobs[2]-(sqrt((zobs[2]-z0)**2+(yobs[2]-y0)**2+(xobs[2]-x0)**2))/5)*((xobs[2]-x0)/sqrt((zobs[2]-z0)**2+(yobs[2]-y0)**2+(xobs[2]-x0)**2))\n",
    "    Gpx3= -(2/5)*(tobs[3]-(sqrt((zobs[3]-z0)**2+(yobs[3]-y0)**2+(xobs[3]-x0)**2))/5)*((xobs[3]-x0)/sqrt((zobs[3]-z0)**2+(yobs[3]-y0)**2+(xobs[3]-x0)**2))\n",
    "    Gpx4= -(2/5)*(tobs[4]-(sqrt((zobs[4]-z0)**2+(yobs[4]-y0)**2+(xobs[4]-x0)**2))/5)*((xobs[4]-x0)/sqrt((zobs[4]-z0)**2+(yobs[4]-y0)**2+(xobs[4]-x0)**2))\n",
    "    Gpx5= -(2/5)*(tobs[5]-(sqrt((zobs[5]-z0)**2+(yobs[5]-y0)**2+(xobs[5]-x0)**2))/5)*((xobs[5]-x0)/sqrt((zobs[5]-z0)**2+(yobs[5]-y0)**2+(xobs[5]-x0)**2))\n",
    "    Gpx=Gpx0+Gpx1+Gpx2+Gpx3+Gpx4+Gpx5\n",
    "    \n",
    "    Gpy0= -(2/5)*(tobs[0]-(sqrt((zobs[0]-z0)**2+(yobs[0]-y0)**2+(xobs[0]-x0)**2))/5)*((yobs[0]-y0)/sqrt((zobs[0]-z0)**2+(yobs[0]-y0)**2+(xobs[0]-x0)**2))\n",
    "    Gpy1= -(2/5)*(tobs[1]-(sqrt((zobs[1]-z0)**2+(yobs[1]-y0)**2+(xobs[1]-x0)**2))/5)*((yobs[1]-y0)/sqrt((zobs[1]-z0)**2+(yobs[1]-y0)**2+(xobs[1]-x0)**2))\n",
    "    Gpy2= -(2/5)*(tobs[2]-(sqrt((zobs[2]-z0)**2+(yobs[2]-y0)**2+(xobs[2]-x0)**2))/5)*((yobs[2]-y0)/sqrt((zobs[2]-z0)**2+(yobs[2]-y0)**2+(xobs[2]-x0)**2))\n",
    "    Gpy3= -(2/5)*(tobs[3]-(sqrt((zobs[3]-z0)**2+(yobs[3]-y0)**2+(xobs[3]-x0)**2))/5)*((yobs[3]-y0)/sqrt((zobs[3]-z0)**2+(yobs[3]-y0)**2+(xobs[3]-x0)**2))\n",
    "    Gpy4= -(2/5)*(tobs[4]-(sqrt((zobs[4]-z0)**2+(yobs[4]-y0)**2+(xobs[4]-x0)**2))/5)*((yobs[4]-y0)/sqrt((zobs[4]-z0)**2+(yobs[4]-y0)**2+(xobs[4]-x0)**2))\n",
    "    Gpy5= -(2/5)*(tobs[5]-(sqrt((zobs[5]-z0)**2+(yobs[5]-y0)**2+(xobs[5]-x0)**2))/5)*((yobs[5]-y0)/sqrt((zobs[5]-z0)**2+(yobs[5]-y0)**2+(xobs[5]-x0)**2))\n",
    "    Gpy=Gpy0+Gpy1+Gpy2+Gpy3+Gpy4+Gpy5\n",
    "    \n",
    "    Gpz0= -(2/5)*(tobs[0]-(sqrt((zobs[0]-z0)**2+(yobs[0]-y0)**2+(xobs[0]-x0)**2))/5)*((zobs[0]-z0)/sqrt((zobs[0]-z0)**2+(yobs[0]-y0)**2+(xobs[0]-x0)**2))\n",
    "    Gpz1= -(2/5)*(tobs[1]-(sqrt((zobs[1]-z0)**2+(yobs[1]-y0)**2+(xobs[1]-x0)**2))/5)*((zobs[1]-z0)/sqrt((zobs[1]-z0)**2+(yobs[1]-y0)**2+(xobs[1]-x0)**2))\n",
    "    Gpz2= -(2/5)*(tobs[2]-(sqrt((zobs[2]-z0)**2+(yobs[2]-y0)**2+(xobs[2]-x0)**2))/5)*((zobs[2]-z0)/sqrt((zobs[2]-z0)**2+(yobs[2]-y0)**2+(xobs[2]-x0)**2))\n",
    "    Gpz3= -(2/5)*(tobs[3]-(sqrt((zobs[3]-z0)**2+(yobs[3]-y0)**2+(xobs[3]-x0)**2))/5)*((zobs[3]-z0)/sqrt((zobs[3]-z0)**2+(yobs[3]-y0)**2+(xobs[3]-x0)**2))\n",
    "    Gpz4= -(2/5)*(tobs[4]-(sqrt((zobs[4]-z0)**2+(yobs[4]-y0)**2+(xobs[4]-x0)**2))/5)*((zobs[4]-z0)/sqrt((zobs[4]-z0)**2+(yobs[4]-y0)**2+(xobs[4]-x0)**2))\n",
    "    Gpz5= -(2/5)*(tobs[5]-(sqrt((zobs[5]-z0)**2+(yobs[5]-y0)**2+(xobs[5]-x0)**2))/5)*((zobs[5]-z0)/sqrt((zobs[5]-z0)**2+(yobs[5]-y0)**2+(xobs[5]-x0)**2))\n",
    "    Gpz=Gpz0+Gpz1+Gpz2+Gpz3+Gpz4+Gpz5\n",
    "        \n",
    "    return Gpx,Gpy,Gpz\n",
    "def leapfrog(x0,y0,z0,px,py,pz,delta_t=1E-2, niter=10):\n",
    "    x_new = x0\n",
    "    px_new =px \n",
    "    \n",
    "    y_new = y0\n",
    "    py_new =py\n",
    "    \n",
    "    z_new = z0\n",
    "    pz_new =pz \n",
    "    \n",
    "    for i in range(niter):\n",
    "        px_new = px_new + 0.5 * delta_t * gradient_loglikelihood(x0,y0,z0)[0]\n",
    "        x_new = x_new + delta_t * px_new\n",
    "        px_new = px_new + 0.5 * delta_t * gradient_loglikelihood(x0,y0,z0)[0]\n",
    "        \n",
    "        py_new = py_new + 0.5 * delta_t * gradient_loglikelihood(x0,y0,z0)[1]\n",
    "        y_new = y_new + delta_t * py_new\n",
    "        py_new = py_new + 0.5 * delta_t * gradient_loglikelihood(x0,y0,z0)[1]\n",
    "        \n",
    "        pz_new = pz_new + 0.5 * delta_t * gradient_loglikelihood(x0,y0,z0)[2]\n",
    "        z_new = z_new + delta_t * pz_new\n",
    "        pz_new = pz_new + 0.5 * delta_t * gradient_loglikelihood(x0,y0,z0)[2]\n",
    "        \n",
    "    return x_new, px_new,y_new, py_new,z_new, pz_new\n",
    "\n",
    "def H(x0,y0,z0,px,py,pz):\n",
    "    K = 0.5 * (px*px+py*py+pz*pz)\n",
    "    U = -loglikelihood(x0,y0,z0)\n",
    "    return K + U"
   ]
  },
  {
   "cell_type": "code",
   "execution_count": 15,
   "metadata": {
    "collapsed": false
   },
   "outputs": [],
   "source": [
    "def MCMC(nsteps):\n",
    "    x0 = np.zeros(nsteps)\n",
    "    px = np.zeros(nsteps)\n",
    "    x0[0] = np.random.normal(0,1)\n",
    "    px[0] = np.random.normal(0,1)\n",
    "    \n",
    "    y0 = np.zeros(nsteps)\n",
    "    py = np.zeros(nsteps)\n",
    "    y0[0] = np.random.normal(0,1)\n",
    "    py[0] = np.random.normal(0,1)\n",
    "    \n",
    "    z0 = np.zeros(nsteps)\n",
    "    pz = np.zeros(nsteps)\n",
    "    z0[0] = np.random.normal(0,1)\n",
    "    pz[0] = np.random.normal(0,1)\n",
    "    \n",
    "    for i in range(1,nsteps):\n",
    "        px[i] = np.random.normal(0,1)\n",
    "        py[i] = np.random.normal(0,1)\n",
    "        pz[i] = np.random.normal(0,1)\n",
    "        x_new, px_new,y_new, py_new,z_new, pz_new = leapfrog(x0[i-1],y0[i-1],z0[i-1],px[i-1],py[i-1],pz[i-1])\n",
    "        E_new = H(x_new,y_new,z_new,px_new,py_new,pz_new)  #x0,y0,z0,px,py,pz\n",
    "        E_old = H(x0[i-1],y0[i-1],z0[i-1],px[i-1],py[i-1],pz[i-1])\n",
    "        alpha = min(1.0,np.exp(-E_new + E_old))\n",
    "        beta = np.random.random()\n",
    "        if beta < alpha:\n",
    "            x0[i] = x_new\n",
    "            y0[i] = y_new\n",
    "            z0[i] = z_new\n",
    "        else:\n",
    "            x0[i] = x0[i-1]\n",
    "            y0[i] = y0[i-1]\n",
    "            z0[i] = z0[i-1]\n",
    "    return x0,y0,z0"
   ]
  },
  {
   "cell_type": "code",
   "execution_count": 16,
   "metadata": {
    "collapsed": false
   },
   "outputs": [],
   "source": [
    "q_chain = MCMC(4000)"
   ]
  },
  {
   "cell_type": "code",
   "execution_count": 17,
   "metadata": {
    "collapsed": false
   },
   "outputs": [
    {
     "data": {
      "image/png": "[encoded data removed]",
      "text/plain": [
       "<matplotlib.figure.Figure at 0x7f94690fbeb8>"
      ]
     },
     "metadata": {},
     "output_type": "display_data"
    }
   ],
   "source": [
    "xhis = plt.hist(q_chain[0][:], bins=20)"
   ]
  },
  {
   "cell_type": "code",
   "execution_count": 18,
   "metadata": {
    "collapsed": false
   },
   "outputs": [
    {
     "data": {
      "image/png": "[encoded data removed]",
      "text/plain": [
       "<matplotlib.figure.Figure at 0x7f94691cfbe0>"
      ]
     },
     "metadata": {},
     "output_type": "display_data"
    }
   ],
   "source": [
    "yhis = plt.hist(q_chain[1][:], bins=20)"
   ]
  },
  {
   "cell_type": "code",
   "execution_count": 19,
   "metadata": {
    "collapsed": false
   },
   "outputs": [
    {
     "data": {
      "image/png": "[encoded data removed]",
      "text/plain": [
       "<matplotlib.figure.Figure at 0x7f946938def0>"
      ]
     },
     "metadata": {},
     "output_type": "display_data"
    }
   ],
   "source": [
    "zhisa = plt.hist(q_chain[2][:], bins=20)"
   ]
  },
  {
   "cell_type": "code",
   "execution_count": null,
   "metadata": {
    "collapsed": true
   },
   "outputs": [],
   "source": [
    "def gelman_rubin( N=5000, M=4):\n",
    "    walksx = {}\n",
    "    walksy = {}\n",
    "    walksz = {}\n",
    "    for m in range(M):\n",
    "        walksx[m],walksy[m],walksz[m] = MCMC(N)\n",
    "    \n",
    "    Rx = np.zeros(N-1)\n",
    "    Ry = np.zeros(N-1)\n",
    "    Rz = np.zeros(N-1)\n",
    "    for i in range(N-1):\n",
    "        n = i+1\n",
    "        mean_walksx = np.zeros(M)\n",
    "        mean_walksy = np.zeros(M)\n",
    "        mean_walksz = np.zeros(M)\n",
    "        variance_walksx = np.zeros(M)\n",
    "        variance_walksy = np.zeros(M)\n",
    "        variance_walksz = np.zeros(M)\n",
    "        for m in range(M):\n",
    "            mean_walksx[m] = walksx[m][:n].mean()\n",
    "            mean_walksy[m] = walksy[m][:n].mean()\n",
    "            mean_walksz[m] = walksz[m][:n].mean()\n",
    "            variance_walksx[m] = walksx[m][:n].std() ** 2\n",
    "            variance_walksy[m] = walksy[m][:n].std() ** 2\n",
    "            variance_walksz[m] = walksz[m][:n].std() ** 2\n",
    "        mean_generalx = mean_walksx.mean()\n",
    "        mean_generaly = mean_walksy.mean()\n",
    "        mean_generalz = mean_walksz.mean()\n",
    "        Bx = 0.0\n",
    "        By = 0.0\n",
    "        Bz = 0.0\n",
    "        for m in range(M):\n",
    "            Bx += (mean_walksx[m] - mean_generalx)**2\n",
    "            By += (mean_walksy[m] - mean_generaly)**2\n",
    "            Bz += (mean_walksz[m] - mean_generalz)**2\n",
    "        Bx = n*Bx/(M-1)\n",
    "        By = n*By/(M-1)\n",
    "        Bz = n*Bz/(M-1)\n",
    "        Wx = variance_walksx.mean()\n",
    "        Wy = variance_walksy.mean()\n",
    "        Wz = variance_walksz.mean()\n",
    "    \n",
    "        Rx[n-1] = (n-1)/n + (Bx/Wx)*(M+1)/(n*M)\n",
    "        Ry[n-1] = (n-1)/n + (By/Wy)*(M+1)/(n*M)\n",
    "        Rz[n-1] = (n-1)/n + (Bz/Wz)*(M+1)/(n*M)\n",
    "    \n",
    "    return walksx,Rx,walksy,Ry,walksz,Rz"
   ]
  },
  {
   "cell_type": "code",
   "execution_count": null,
   "metadata": {
    "collapsed": false
   },
   "outputs": [],
   "source": [
    "walksx,Rx,walksy,Ry,walksz,Rz=gelman_rubin( N=10000, M=4)"
   ]
  },
  {
   "cell_type": "code",
   "execution_count": null,
   "metadata": {
    "collapsed": false
   },
   "outputs": [],
   "source": [
    "plt.plot(Rx[100:], label='$Rx$')\n",
    "plt.plot(Ry[100:], label='$Ry$')\n",
    "plt.plot(Rz[100:], label='$Rz$')\n",
    "plt.loglog()\n",
    "plt.legend()\n",
    "plt.xlabel('Iteration Number')\n",
    "plt.ylabel('$\\hat{R}$')"
   ]
  },
  {
   "cell_type": "code",
   "execution_count": null,
   "metadata": {
    "collapsed": true
   },
   "outputs": [],
   "source": []
  }
 ],
 "metadata": {
  "kernelspec": {
   "display_name": "Python 3",
   "language": "python",
   "name": "python3"
  },
  "language_info": {
   "codemirror_mode": {
    "name": "ipython",
    "version": 3
   },
   "file_extension": ".py",
   "mimetype": "text/x-python",
   "name": "python",
   "nbconvert_exporter": "python",
   "pygments_lexer": "ipython3",
   "version": "3.4.3"
  }
 },
 "nbformat": 4,
 "nbformat_minor": 0
}
